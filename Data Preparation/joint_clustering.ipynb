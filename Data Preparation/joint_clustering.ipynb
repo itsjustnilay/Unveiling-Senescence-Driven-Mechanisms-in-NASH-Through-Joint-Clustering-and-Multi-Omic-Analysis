{
 "cells": [
  {
   "cell_type": "markdown",
   "id": "d4b530c7-bd77-4feb-9fe9-a4521a3a7b5c",
   "metadata": {},
   "source": [
    "# Joint clustering of mouse liver data\n",
    "\n",
    "The data for this project is sourced from the Gene Expression Omnibus (GEO) under accession number [GSE155182](https://www.ncbi.nlm.nih.gov/geo/query/acc.cgi?acc=GSE155182). The raw sequencing files are associated with four samples:\n",
    "\n",
    "1. **Normal Liver - Whole (GSM4696914):** Hepatic non-parenchymal cells from normal mouse liver.\n",
    "\n",
    "2. **Normal Liver - Tomato Positive (GSM4696915):** Hepatic non-parenchymal cells enriched for p16-positive cells.\n",
    "\n",
    "3. **NASH Liver - Whole (GSM4696916):** Hepatic non-parenchymal cells from NASH mouse liver.\n",
    "\n",
    "4. **NASH Liver - Tomato Positive (GSM4696917):** Hepatic non-parenchymal cells enriched for p16-positive cells."
   ]
  },
  {
   "cell_type": "code",
   "execution_count": 1,
   "id": "68305af7-5521-41c6-b773-b4b7091add13",
   "metadata": {
    "tags": []
   },
   "outputs": [],
   "source": [
    "import sys\n",
    "import scanpy as sc\n",
    "import pandas as pd\n",
    "import numpy as np\n",
    "import re\n",
    "from tqdm import tqdm\n",
    "import anndata"
   ]
  },
  {
   "cell_type": "markdown",
   "id": "298a0297-c990-435c-9d07-b0b877e93f6d",
   "metadata": {},
   "source": [
    "### Preprocessing"
   ]
  },
  {
   "cell_type": "code",
   "execution_count": 3,
   "id": "71f10abf-7745-471b-9680-2382280a8542",
   "metadata": {
    "tags": []
   },
   "outputs": [
    {
     "name": "stderr",
     "output_type": "stream",
     "text": [
      "/home/nb752/.conda/envs/CellBenderEnv/lib/python3.7/site-packages/anndata/_core/anndata.py:1830: UserWarning: Variable names are not unique. To make them unique, call `.var_names_make_unique`.\n",
      "  utils.warn_names_duplicates(\"var\")\n"
     ]
    }
   ],
   "source": [
    "# Make observation names unique for the specified objects\n",
    "ad_normal_w = sc.read_10x_h5(filepath_normal_w)\n",
    "ad_normal_w.obs_names_make_unique()\n",
    "\n",
    "ad_normal_tpos = sc.read_10x_h5(filepath_normal_tpos)\n",
    "ad_normal_tpos.obs_names_make_unique()\n",
    "\n",
    "ad_nash_w = sc.read_10x_h5(filepath_nash_w)\n",
    "ad_nash_w.obs_names_make_unique()\n",
    "\n",
    "ad_nash_tpos = sc.read_10x_h5(filepath_nash_tpos)\n",
    "ad_nash_tpos.obs_names_make_unique()"
   ]
  },
  {
   "cell_type": "code",
   "execution_count": 4,
   "id": "61740f61-915c-48ae-a359-6438bcf11f84",
   "metadata": {
    "tags": []
   },
   "outputs": [
    {
     "name": "stdout",
     "output_type": "stream",
     "text": [
      "ad_normal_w:\n",
      "  Dimensions: (3885, 33696)\n",
      "  Number of unique genes: 33670\n",
      "\n",
      "ad_normal_tpos:\n",
      "  Dimensions: (5120, 33696)\n",
      "  Number of unique genes: 33670\n",
      "\n",
      "ad_nash_w:\n",
      "  Dimensions: (5345, 33696)\n",
      "  Number of unique genes: 33670\n",
      "\n",
      "ad_nash_tpos:\n",
      "  Dimensions: (6438, 33696)\n",
      "  Number of unique genes: 33670\n",
      "\n"
     ]
    }
   ],
   "source": [
    "def print_adata_info(adata, name):\n",
    "    dimensions = adata.shape\n",
    "    unique_genes = adata.var_names.nunique()\n",
    "    print(f\"{name}:\")\n",
    "    print(f\"  Dimensions: {dimensions}\")\n",
    "    print(f\"  Number of unique genes: {unique_genes}\\n\")\n",
    "    return (name, dimensions, unique_genes)\n",
    "\n",
    "# Print information for the new AnnData objects\n",
    "info_normal_w = print_adata_info(ad_normal_w, 'ad_normal_w')\n",
    "info_normal_tpos = print_adata_info(ad_normal_tpos, 'ad_normal_tpos')\n",
    "info_nash_w = print_adata_info(ad_nash_w, 'ad_nash_w')\n",
    "info_nash_tpos = print_adata_info(ad_nash_tpos, 'ad_nash_tpos')"
   ]
  },
  {
   "cell_type": "code",
   "execution_count": 5,
   "id": "80e50d0f-9a24-4a2a-afb0-4046c05c8df9",
   "metadata": {
    "tags": []
   },
   "outputs": [
    {
     "name": "stdout",
     "output_type": "stream",
     "text": [
      "ad_normal_w:\n",
      "  Dimensions: (3885, 24263)\n",
      "  Number of unique genes: 24247\n",
      "\n",
      "ad_normal_tpos:\n",
      "  Dimensions: (5120, 24263)\n",
      "  Number of unique genes: 24247\n",
      "\n",
      "ad_nash_w:\n",
      "  Dimensions: (5345, 24263)\n",
      "  Number of unique genes: 24247\n",
      "\n",
      "ad_nash_tpos:\n",
      "  Dimensions: (6438, 24263)\n",
      "  Number of unique genes: 24247\n",
      "\n"
     ]
    }
   ],
   "source": [
    "# Function to remove lncRNAs\n",
    "def remove_lncRNAs(adata):\n",
    "    gene_names = adata.var_names\n",
    "    mask = ~gene_names.str.match(r'Gm\\d+')  # Exclude genes matching the lncRNA pattern\n",
    "    adata = adata[:, mask]  # Keep only genes that do not match the pattern\n",
    "    return adata\n",
    "\n",
    "# Apply the function to remove lncRNAs\n",
    "ad_normal_w = remove_lncRNAs(ad_normal_w)\n",
    "ad_normal_tpos = remove_lncRNAs(ad_normal_tpos)\n",
    "ad_nash_w = remove_lncRNAs(ad_nash_w)\n",
    "ad_nash_tpos = remove_lncRNAs(ad_nash_tpos)\n",
    "\n",
    "# Print information for the updated AnnData objects\n",
    "info_normal_w = print_adata_info(ad_normal_w, 'ad_normal_w')\n",
    "info_normal_tpos = print_adata_info(ad_normal_tpos, 'ad_normal_tpos')\n",
    "info_nash_w = print_adata_info(ad_nash_w, 'ad_nash_w')\n",
    "info_nash_tpos = print_adata_info(ad_nash_tpos, 'ad_nash_tpos')"
   ]
  },
  {
   "cell_type": "code",
   "execution_count": 6,
   "id": "b2278c21-fa97-4965-831e-1ce77bdb2b74",
   "metadata": {
    "tags": []
   },
   "outputs": [
    {
     "name": "stdout",
     "output_type": "stream",
     "text": [
      "\n",
      "For ad_normal_w\n",
      "Fam220a: [[ 39. 197.]]\n",
      "Or5ae1: [[0. 0.]]\n",
      "St6galnac2: [[31.  0.]]\n",
      "Pakap: [[   31. 16673.]]\n",
      "C730027H18Rik: [[0. 3.]]\n",
      "Nnt: [[55.  0.]]\n",
      "4933427D14Rik: [[19.  5.]]\n",
      "Septin2: [[188.   0.]]\n",
      "Lhb: [[0. 0.]]\n",
      "Ptp4a1: [[41. 11.]]\n",
      "Nrg1: [[192.   0.]]\n",
      "Dpep2: [[35.  6.]]\n",
      "Ddit3: [[999.   0.]]\n",
      "Fam90a1b: [[1. 3.]]\n",
      "Cdhr17: [[0. 0.]]\n",
      "Aldoa: [[3.539e+03 2.000e+00]]\n",
      "\n",
      "For ad_normal_tpos\n",
      "Fam220a: [[ 34. 250.]]\n",
      "Or5ae1: [[0. 0.]]\n",
      "St6galnac2: [[33.  0.]]\n",
      "Pakap: [[   79. 35788.]]\n",
      "C730027H18Rik: [[1. 2.]]\n",
      "Nnt: [[58.  0.]]\n",
      "4933427D14Rik: [[29.  6.]]\n",
      "Septin2: [[236.   0.]]\n",
      "Lhb: [[0. 0.]]\n",
      "Ptp4a1: [[49. 16.]]\n",
      "Nrg1: [[851.   0.]]\n",
      "Dpep2: [[13.  5.]]\n",
      "Ddit3: [[1410.    0.]]\n",
      "Fam90a1b: [[1. 8.]]\n",
      "Cdhr17: [[0. 0.]]\n",
      "Aldoa: [[4006.    6.]]\n",
      "\n",
      "For ad_nash_w\n",
      "Fam220a: [[ 73. 248.]]\n",
      "Or5ae1: [[0. 0.]]\n",
      "St6galnac2: [[32.  0.]]\n",
      "Pakap: [[  222. 37870.]]\n",
      "C730027H18Rik: [[ 0. 11.]]\n",
      "Nnt: [[90.  0.]]\n",
      "4933427D14Rik: [[55.  6.]]\n",
      "Septin2: [[344.   0.]]\n",
      "Lhb: [[0. 0.]]\n",
      "Ptp4a1: [[48. 26.]]\n",
      "Nrg1: [[1447.    0.]]\n",
      "Dpep2: [[111.   7.]]\n",
      "Ddit3: [[2216.    0.]]\n",
      "Fam90a1b: [[0. 5.]]\n",
      "Cdhr17: [[2. 0.]]\n",
      "Aldoa: [[9471.    0.]]\n",
      "\n",
      "For ad_nash_tpos\n",
      "Fam220a: [[ 86. 346.]]\n",
      "Or5ae1: [[0. 0.]]\n",
      "St6galnac2: [[42.  2.]]\n",
      "Pakap: [[  282. 58694.]]\n",
      "C730027H18Rik: [[1. 3.]]\n",
      "Nnt: [[105.   0.]]\n",
      "4933427D14Rik: [[52. 19.]]\n",
      "Septin2: [[427.   0.]]\n",
      "Lhb: [[1. 0.]]\n",
      "Ptp4a1: [[54. 26.]]\n",
      "Nrg1: [[1254.    0.]]\n",
      "Dpep2: [[189.   7.]]\n",
      "Ddit3: [[3047.    0.]]\n",
      "Fam90a1b: [[ 0. 22.]]\n",
      "Cdhr17: [[5. 0.]]\n",
      "Aldoa: [[1.1728e+04 1.0000e+00]]\n"
     ]
    }
   ],
   "source": [
    "# Find duplicated genes in each dataset\n",
    "duplicated_normal_w = ad_normal_w.var_names[ad_normal_w.var_names.duplicated()]\n",
    "duplicated_normal_tpos = ad_normal_tpos.var_names[ad_normal_tpos.var_names.duplicated()]\n",
    "duplicated_nash_w = ad_nash_w.var_names[ad_nash_w.var_names.duplicated()]\n",
    "duplicated_nash_tpos = ad_nash_tpos.var_names[ad_nash_tpos.var_names.duplicated()]\n",
    "\n",
    "# Combine all duplicated genes into a single list\n",
    "all_duplicated_genes = set(duplicated_normal_w).union(\n",
    "    set(duplicated_normal_tpos),\n",
    "    set(duplicated_nash_w),\n",
    "    set(duplicated_nash_tpos)\n",
    ")\n",
    "\n",
    "duplicated_genes = list(all_duplicated_genes)\n",
    "\n",
    "# Function to calculate and print gene sums\n",
    "def print_gene_sums(ad, dataset_name):\n",
    "    print(f\"\\nFor {dataset_name}\")\n",
    "    for gene in duplicated_genes:\n",
    "        # Check if the gene exists in the dataset\n",
    "        if gene in ad.var_names:\n",
    "            gene_sum = ad[:, gene].X.sum(axis=0)  # Sums across all cells for the gene\n",
    "        else:\n",
    "            gene_sum = 0  # If gene is not present, use 0\n",
    "        print(f\"{gene}: {gene_sum}\")\n",
    "\n",
    "# Print gene sums for the new datasets\n",
    "print_gene_sums(ad_normal_w, \"ad_normal_w\")\n",
    "print_gene_sums(ad_normal_tpos, \"ad_normal_tpos\")\n",
    "print_gene_sums(ad_nash_w, \"ad_nash_w\")\n",
    "print_gene_sums(ad_nash_tpos, \"ad_nash_tpos\")"
   ]
  },
  {
   "cell_type": "code",
   "execution_count": 7,
   "id": "b9c6f096-e4be-44d4-85e5-2abc27a97494",
   "metadata": {
    "tags": []
   },
   "outputs": [
    {
     "name": "stdout",
     "output_type": "stream",
     "text": [
      "       gene_name                               ensembl_ids\n",
      "0  4933427D14Rik  [ENSMUSG00000020807, ENSMUSG00000107877]\n",
      "1          Aldoa  [ENSMUSG00000030695, ENSMUSG00000114515]\n",
      "2  C730027H18Rik  [ENSMUSG00000112366, ENSMUSG00000112189]\n",
      "3          Dpep2  [ENSMUSG00000053687, ENSMUSG00000115067]\n",
      "4        Fam220a  [ENSMUSG00000118332, ENSMUSG00000083012]\n",
      "5          Pakap  [ENSMUSG00000090053, ENSMUSG00000038729]\n",
      "6         Ptp4a1  [ENSMUSG00000026064, ENSMUSG00000117310]\n",
      "7     St6galnac2  [ENSMUSG00000057286, ENSMUSG00000110170]\n"
     ]
    }
   ],
   "source": [
    "# Define duplicated genes\n",
    "duplicated_genes = ['Ptp4a1', 'St6galnac2', 'Fam220a', '4933427D14Rik', 'Dpep2', 'C730027H18Rik', 'St6galnac2', 'Pakap', 'Aldoa']\n",
    "\n",
    "duplicated_gene_info = ad_normal_w.var[ad_normal_w.var.index.isin(duplicated_genes)]\n",
    "duplicated_gene_ids = duplicated_gene_info[['gene_ids']]\n",
    "\n",
    "unique_gene_ids_df = duplicated_gene_ids.groupby(duplicated_gene_ids.index).agg({\n",
    "    'gene_ids': lambda x: list(x)  # or ', '.join(x) if you want them as a comma-separated string\n",
    "}).reset_index()\n",
    "\n",
    "\n",
    "unique_gene_ids_df.columns = ['gene_name', 'ensembl_ids']\n",
    "print(unique_gene_ids_df)"
   ]
  },
  {
   "cell_type": "code",
   "execution_count": 8,
   "id": "ba7e7ce1-86da-4e31-83a9-7079df446d91",
   "metadata": {
    "tags": []
   },
   "outputs": [
    {
     "name": "stderr",
     "output_type": "stream",
     "text": [
      "/home/nb752/.conda/envs/CellBenderEnv/lib/python3.7/site-packages/anndata/_core/anndata.py:1830: UserWarning: Variable names are not unique. To make them unique, call `.var_names_make_unique`.\n",
      "  utils.warn_names_duplicates(\"var\")\n"
     ]
    }
   ],
   "source": [
    "# Define pairs of genes and gene_ids to remove\n",
    "remove_pairs = [\n",
    "    ('4933427D14Rik', 'ENSMUSG00000107877'), \n",
    "    ('Aldoa', 'ENSMUSG00000114515'),\n",
    "    ('Dpep2', 'ENSMUSG00000115067'),\n",
    "    ('Fam220a', 'ENSMUSG00000118332'),\n",
    "    ('Pakap', 'ENSMUSG00000090053'),\n",
    "    ('Ptp4a1', 'ENSMUSG00000117310'),\n",
    "    ('C730027H18Rik', 'ENSMUSG00000112366'),\n",
    "    ('St6galnac2', 'ENSMUSG00000110170')\n",
    "]\n",
    "\n",
    "remove_df = pd.DataFrame(remove_pairs, columns=['gene_name', 'gene_ids'])\n",
    "\n",
    "# Function to remove specified genes and gene_ids from a dataset\n",
    "def remove_genes(adata, remove_df):\n",
    "    mask = ~adata.var.reset_index().set_index(['index', 'gene_ids']).index.isin(\n",
    "        remove_df.set_index(['gene_name', 'gene_ids']).index\n",
    "    )\n",
    "    adata._inplace_subset_var(mask)\n",
    "\n",
    "# Apply the function to your datasets\n",
    "remove_genes(ad_normal_w, remove_df)\n",
    "remove_genes(ad_normal_tpos, remove_df)\n",
    "remove_genes(ad_nash_w, remove_df)\n",
    "remove_genes(ad_nash_tpos, remove_df)"
   ]
  },
  {
   "cell_type": "code",
   "execution_count": 9,
   "id": "7c064d67-c94e-4573-9de3-a35eda0252c3",
   "metadata": {
    "tags": []
   },
   "outputs": [],
   "source": [
    "# Define genes to remove\n",
    "remove_genes = ['Nnt', 'Cdhr17', 'Lhb', 'Ddit3', 'Septin2', 'Or5ae1', 'Nrg1', 'Fam90a1b']\n",
    "\n",
    "# Apply the mask to each dataset\n",
    "mask = ~ad_normal_w.var.index.isin(remove_genes)\n",
    "ad_normal_w._inplace_subset_var(mask)\n",
    "\n",
    "mask = ~ad_normal_tpos.var.index.isin(remove_genes)\n",
    "ad_normal_tpos._inplace_subset_var(mask)\n",
    "\n",
    "mask = ~ad_nash_w.var.index.isin(remove_genes)\n",
    "ad_nash_w._inplace_subset_var(mask)\n",
    "\n",
    "mask = ~ad_nash_tpos.var.index.isin(remove_genes)\n",
    "ad_nash_tpos._inplace_subset_var(mask)"
   ]
  },
  {
   "cell_type": "code",
   "execution_count": 10,
   "id": "82f14c50-c898-4e3a-8b89-12d5acd11681",
   "metadata": {
    "tags": []
   },
   "outputs": [
    {
     "data": {
      "text/plain": [
       "Index([], dtype='object')"
      ]
     },
     "execution_count": 10,
     "metadata": {},
     "output_type": "execute_result"
    }
   ],
   "source": [
    "ad_normal_w.var_names[ad_normal_w.var_names.duplicated()]"
   ]
  },
  {
   "cell_type": "markdown",
   "id": "6427a79a-a5e3-4c4a-ba64-7e9b3d921310",
   "metadata": {},
   "source": [
    "### Joint clustering"
   ]
  },
  {
   "cell_type": "code",
   "execution_count": 11,
   "id": "4a3066e1-6851-4211-88f8-b95db2dbe68a",
   "metadata": {
    "tags": []
   },
   "outputs": [],
   "source": [
    "# Add metadata for ad_normal_w\n",
    "ad_normal_w.obs['treatment'] = 'normal'\n",
    "ad_normal_w.obs['sample'] = 'whole'\n",
    "\n",
    "# Add metadata for ad_normal_tpos\n",
    "ad_normal_tpos.obs['treatment'] = 'normal'\n",
    "ad_normal_tpos.obs['sample'] = 'T pos'\n",
    "\n",
    "# Add metadata for ad_nash_w\n",
    "ad_nash_w.obs['treatment'] = 'nash'\n",
    "ad_nash_w.obs['sample'] = 'whole'\n",
    "\n",
    "# Add metadata for ad_nash_tpos\n",
    "ad_nash_tpos.obs['treatment'] = 'nash'\n",
    "ad_nash_tpos.obs['sample'] = 'T pos'"
   ]
  },
  {
   "cell_type": "code",
   "execution_count": 12,
   "id": "abb7d0cb-0b39-4a16-ba06-2a313eceb4c5",
   "metadata": {
    "tags": []
   },
   "outputs": [
    {
     "name": "stderr",
     "output_type": "stream",
     "text": [
      "/home/nb752/.conda/envs/CellBenderEnv/lib/python3.7/site-packages/anndata/_core/anndata.py:1828: UserWarning: Observation names are not unique. To make them unique, call `.obs_names_make_unique`.\n",
      "  utils.warn_names_duplicates(\"obs\")\n"
     ]
    }
   ],
   "source": [
    "# Concatenate normal liver and NASH liver datasets\n",
    "adata_liver = anndata.concat([ad_normal_w, ad_nash_w], join='inner')\n",
    "\n",
    "# Concatenate normal Tom+ and NASH Tom+ datasets\n",
    "adata_tom = anndata.concat([ad_normal_tpos, ad_nash_tpos], join='inner')"
   ]
  },
  {
   "cell_type": "code",
   "execution_count": 13,
   "id": "82e9bb92-17e5-49d9-b9ca-1905c7fdfd9c",
   "metadata": {
    "tags": []
   },
   "outputs": [
    {
     "data": {
      "text/plain": [
       "AnnData object with n_obs × n_vars = 11558 × 24239\n",
       "    obs: 'treatment', 'sample'"
      ]
     },
     "execution_count": 13,
     "metadata": {},
     "output_type": "execute_result"
    }
   ],
   "source": [
    "adata_tom"
   ]
  },
  {
   "cell_type": "code",
   "execution_count": 14,
   "id": "02b3fd2a-26bb-4dd0-9d11-5585cecada02",
   "metadata": {
    "tags": []
   },
   "outputs": [
    {
     "data": {
      "text/plain": [
       "AnnData object with n_obs × n_vars = 9230 × 24239\n",
       "    obs: 'treatment', 'sample'"
      ]
     },
     "execution_count": 14,
     "metadata": {},
     "output_type": "execute_result"
    }
   ],
   "source": [
    "adata_liver"
   ]
  },
  {
   "cell_type": "markdown",
   "id": "8bf43f4b-e16f-4b79-8c44-babcdcdc9324",
   "metadata": {},
   "source": [
    "   "
   ]
  },
  {
   "cell_type": "markdown",
   "id": "f4d73c61-6637-4647-8702-697e908c09f4",
   "metadata": {},
   "source": [
    "We have two separate AnnData objects now:\n",
    "\n",
    "- **adata_liver**: Captures broader liver microenvironment changes between normal and NASH liver.\n",
    "- **adata_tom**: Focuses on senescent (Tom+) cells for identifying condition-specific transcriptional changes related to NASH progression."
   ]
  }
 ],
 "metadata": {
  "kernelspec": {
   "display_name": "Python 3 (ipykernel)",
   "language": "python",
   "name": "python3"
  },
  "language_info": {
   "codemirror_mode": {
    "name": "ipython",
    "version": 3
   },
   "file_extension": ".py",
   "mimetype": "text/x-python",
   "name": "python",
   "nbconvert_exporter": "python",
   "pygments_lexer": "ipython3",
   "version": "3.7.12"
  }
 },
 "nbformat": 4,
 "nbformat_minor": 5
}
